{
 "cells": [
  {
   "cell_type": "markdown",
   "metadata": {
    "papermill": {
     "duration": 0.011796,
     "end_time": "2021-09-05T22:33:30.612334",
     "exception": false,
     "start_time": "2021-09-05T22:33:30.600538",
     "status": "completed"
    },
    "tags": []
   },
   "source": [
    "# Lux AI Season 1 Jupyter Notebook Quickstart\n",
    "\n",
    "Welcome to Lux AI Season 1!\n",
    "\n",
    "This notebook is the basic setup to use Jupyter Notebooks and the `kaggle-environments` package to develop your bot. If you plan to not use Jupyter Notebooks or any other programming language, please see our [Github](https://github.com/Lux-AI-Challenge/Lux-Design-2021). The following are some important links!\n",
    "\n",
    "Competition Page: https://www.kaggle.com/c/lux-ai-2021/\n",
    "\n",
    "Online Visualizer: https://2021vis.lux-ai.org/\n",
    "\n",
    "Specifications: https://www.lux-ai.org/specs-2021\n",
    "\n",
    "Github: https://github.com/Lux-AI-Challenge/Lux-Design-2021\n",
    "\n",
    "Bot API: https://github.com/Lux-AI-Challenge/Lux-Design-2021/tree/master/kits\n",
    "\n",
    "And if you haven't done so already, we highly recommend you join our Discord server at https://discord.gg/aWJt3UAcgn or at the minimum follow the kaggle forums at https://www.kaggle.com/c/lux-ai-2021/discussion. We post important announcements there such as changes to rules, events, and opportunities from our sponsors!"
   ]
  },
  {
   "cell_type": "code",
   "execution_count": 1,
   "metadata": {
    "_cell_guid": "b1076dfc-b9ad-4769-8c92-a6c4dae69d19",
    "_uuid": "8f2839f25d086af736a60e9eeb907d3b93b6e0e5",
    "execution": {
     "iopub.execute_input": "2021-09-05T22:33:30.638313Z",
     "iopub.status.busy": "2021-09-05T22:33:30.637198Z",
     "iopub.status.idle": "2021-09-05T22:33:40.080519Z",
     "shell.execute_reply": "2021-09-05T22:33:40.081033Z",
     "shell.execute_reply.started": "2021-08-20T02:17:47.253834Z"
    },
    "papermill": {
     "duration": 9.457782,
     "end_time": "2021-09-05T22:33:40.081316",
     "exception": false,
     "start_time": "2021-09-05T22:33:30.623534",
     "status": "completed"
    },
    "tags": []
   },
   "outputs": [
    {
     "name": "stdout",
     "output_type": "stream",
     "text": [
      "Requirement already satisfied: kaggle-environments in /opt/conda/lib/python3.7/site-packages (1.7.11)\r\n",
      "Collecting kaggle-environments\r\n",
      "  Downloading kaggle_environments-1.8.12-py2.py3-none-any.whl (1.2 MB)\r\n",
      "\u001b[K     |████████████████████████████████| 1.2 MB 922 kB/s \r\n",
      "\u001b[?25hRequirement already satisfied: jsonschema>=3.0.1 in /opt/conda/lib/python3.7/site-packages (from kaggle-environments) (3.2.0)\r\n",
      "Requirement already satisfied: pyrsistent>=0.14.0 in /opt/conda/lib/python3.7/site-packages (from jsonschema>=3.0.1->kaggle-environments) (0.17.3)\r\n",
      "Requirement already satisfied: setuptools in /opt/conda/lib/python3.7/site-packages (from jsonschema>=3.0.1->kaggle-environments) (49.6.0.post20210108)\r\n",
      "Requirement already satisfied: attrs>=17.4.0 in /opt/conda/lib/python3.7/site-packages (from jsonschema>=3.0.1->kaggle-environments) (21.2.0)\r\n",
      "Requirement already satisfied: six>=1.11.0 in /opt/conda/lib/python3.7/site-packages (from jsonschema>=3.0.1->kaggle-environments) (1.15.0)\r\n",
      "Requirement already satisfied: importlib-metadata in /opt/conda/lib/python3.7/site-packages (from jsonschema>=3.0.1->kaggle-environments) (3.4.0)\r\n",
      "Requirement already satisfied: zipp>=0.5 in /opt/conda/lib/python3.7/site-packages (from importlib-metadata->jsonschema>=3.0.1->kaggle-environments) (3.4.1)\r\n",
      "Requirement already satisfied: typing-extensions>=3.6.4 in /opt/conda/lib/python3.7/site-packages (from importlib-metadata->jsonschema>=3.0.1->kaggle-environments) (3.7.4.3)\r\n",
      "Installing collected packages: kaggle-environments\r\n",
      "  Attempting uninstall: kaggle-environments\r\n",
      "    Found existing installation: kaggle-environments 1.7.11\r\n",
      "    Uninstalling kaggle-environments-1.7.11:\r\n",
      "      Successfully uninstalled kaggle-environments-1.7.11\r\n",
      "Successfully installed kaggle-environments-1.8.12\r\n",
      "\u001b[33mWARNING: Running pip as root will break packages and permissions. You should install packages reliably by using venv: https://pip.pypa.io/warnings/venv\u001b[0m\r\n"
     ]
    }
   ],
   "source": [
    "!pip3 install kaggle-environments -U"
   ]
  },
  {
   "cell_type": "code",
   "execution_count": 2,
   "metadata": {
    "execution": {
     "iopub.execute_input": "2021-09-05T22:33:40.117661Z",
     "iopub.status.busy": "2021-09-05T22:33:40.117043Z",
     "iopub.status.idle": "2021-09-05T22:33:40.248191Z",
     "shell.execute_reply": "2021-09-05T22:33:40.247626Z",
     "shell.execute_reply.started": "2021-08-20T02:17:58.466198Z"
    },
    "papermill": {
     "duration": 0.1513,
     "end_time": "2021-09-05T22:33:40.248365",
     "exception": false,
     "start_time": "2021-09-05T22:33:40.097065",
     "status": "completed"
    },
    "tags": []
   },
   "outputs": [
    {
     "name": "stdout",
     "output_type": "stream",
     "text": [
      "Loading environment football failed: No module named 'gfootball'\n"
     ]
    }
   ],
   "source": [
    "from kaggle_environments import make\n",
    "import json"
   ]
  },
  {
   "cell_type": "code",
   "execution_count": 2,
   "metadata": {
    "execution": {
     "iopub.execute_input": "2021-09-05T22:33:40.284778Z",
     "iopub.status.busy": "2021-09-05T22:33:40.284091Z",
     "iopub.status.idle": "2021-09-05T22:33:49.004402Z",
     "shell.execute_reply": "2021-09-05T22:33:49.003571Z",
     "shell.execute_reply.started": "2021-08-20T02:19:42.205975Z"
    },
    "papermill": {
     "duration": 8.74039,
     "end_time": "2021-09-05T22:33:49.004544",
     "exception": false,
     "start_time": "2021-09-05T22:33:40.264154",
     "status": "completed"
    },
    "tags": []
   },
   "outputs": [],
   "source": [
    "# create the environment. You can also specify configurations for seed and loglevel as shown below. If not specified, a random seed is chosen. \n",
    "# loglevel default is 0. \n",
    "# 1 is for errors, 2 is for match warnings such as units colliding, invalid commands (recommended)\n",
    "# 3 for info level, and 4 for everything (not recommended)\n",
    "# set annotations True so annotation commands are drawn on visualizer\n",
    "# set debug to True so print statements get shown\n",
    "env = make(\"lux_ai_2021\", configuration={\"seed\": 562124210, \"loglevel\": 2, \"annotations\": True}, debug=True)\n",
    "# run a match between two agents, simple_agent is a default one\n",
    "steps = env.run([\"simple_agent\", \"simple_agent\"])"
   ]
  },
  {
   "cell_type": "code",
   "execution_count": 7,
   "metadata": {
    "execution": {
     "iopub.execute_input": "2021-09-05T22:33:49.053185Z",
     "iopub.status.busy": "2021-09-05T22:33:49.048048Z",
     "iopub.status.idle": "2021-09-05T22:33:49.307635Z",
     "shell.execute_reply": "2021-09-05T22:33:49.308151Z",
     "shell.execute_reply.started": "2021-08-20T02:19:52.071473Z"
    },
    "papermill": {
     "duration": 0.288652,
     "end_time": "2021-09-05T22:33:49.308320",
     "exception": false,
     "start_time": "2021-09-05T22:33:49.019668",
     "status": "completed"
    },
    "tags": []
   },
   "outputs": [],
   "source": [
    "# you can also render the replay inline as so. we recommend for best viewing experience to set width and height as large possible\n",
    "# if you are viewing this outside of the interactive jupyter notebook / kaggle notebooks mode, this may look cutoff\n",
    "# you may also want to close the output of this render cell or else the notebook might get laggy\n",
    "#env.render(mode=\"ipython\", width=1000, height=700)"
   ]
  },
  {
   "cell_type": "code",
   "execution_count": 5,
   "metadata": {
    "execution": {
     "iopub.execute_input": "2021-09-05T22:33:49.519541Z",
     "iopub.status.busy": "2021-09-05T22:33:49.515308Z",
     "iopub.status.idle": "2021-09-05T22:33:50.299301Z",
     "shell.execute_reply": "2021-09-05T22:33:50.298721Z",
     "shell.execute_reply.started": "2021-08-17T02:51:29.54829Z"
    },
    "papermill": {
     "duration": 0.888418,
     "end_time": "2021-09-05T22:33:50.299435",
     "exception": false,
     "start_time": "2021-09-05T22:33:49.411017",
     "status": "completed"
    },
    "tags": []
   },
   "outputs": [],
   "source": [
    "# run this if using kaggle notebooks\n",
    "!cp -r ../input/lux-ai-2021/* .\n",
    "# if working locally, download the `simple/lux` folder from here https://github.com/Lux-AI-Challenge/Lux-Design-2021/tree/master/kits/python\n",
    "# and we recommend following instructions in there for local development with python bots"
   ]
  },
  {
   "cell_type": "code",
   "execution_count": 6,
   "metadata": {
    "execution": {
     "iopub.execute_input": "2021-09-05T22:33:50.505801Z",
     "iopub.status.busy": "2021-09-05T22:33:50.504621Z",
     "iopub.status.idle": "2021-09-05T22:33:50.508830Z",
     "shell.execute_reply": "2021-09-05T22:33:50.508113Z"
    },
    "papermill": {
     "duration": 0.108868,
     "end_time": "2021-09-05T22:33:50.509033",
     "exception": false,
     "start_time": "2021-09-05T22:33:50.400165",
     "status": "completed"
    },
    "tags": []
   },
   "outputs": [
    {
     "name": "stdout",
     "output_type": "stream",
     "text": [
      "Overwriting agent.py\n"
     ]
    }
   ],
   "source": [
    "%%writefile agent.py\n",
    "# we add this above so you can write this main agent code into a file for submission later\n",
    "\n",
    "# for kaggle-environments\n",
    "from lux.game import Game\n",
    "from lux.game_map import Cell, RESOURCE_TYPES\n",
    "from lux.constants import Constants\n",
    "from lux.game_constants import GAME_CONSTANTS\n",
    "from lux import annotate\n",
    "import math\n",
    "\n",
    "# we declare this global game_state object so that state persists across turns so we do not need to reinitialize it all the time\n",
    "game_state = None\n",
    "\n",
    "# this is the basic agent definition. At the moment this agent does nothing (and actually will survive for a bit before getting consumed by darkness)\n",
    "def agent(observation, configuration):\n",
    "    global game_state\n",
    "\n",
    "    ### Do not edit ###\n",
    "    if observation[\"step\"] == 0:\n",
    "        game_state = Game()\n",
    "        game_state._initialize(observation[\"updates\"])\n",
    "        game_state._update(observation[\"updates\"][2:])\n",
    "        game_state.id = observation.player\n",
    "    else:\n",
    "        game_state._update(observation[\"updates\"])\n",
    "    \n",
    "    actions = []\n",
    "\n",
    "    ### AI Code goes down here! ### \n",
    "    player = game_state.players[observation.player]\n",
    "    opponent = game_state.players[(observation.player + 1) % 2]\n",
    "    width, height = game_state.map.width, game_state.map.height\n",
    "\n",
    "    return actions"
   ]
  },
  {
   "cell_type": "code",
   "execution_count": 1,
   "metadata": {
    "execution": {
     "iopub.execute_input": "2021-09-05T22:33:50.718185Z",
     "iopub.status.busy": "2021-09-05T22:33:50.717553Z",
     "iopub.status.idle": "2021-09-05T22:33:58.025846Z",
     "shell.execute_reply": "2021-09-05T22:33:58.025193Z"
    },
    "papermill": {
     "duration": 7.419754,
     "end_time": "2021-09-05T22:33:58.026036",
     "exception": false,
     "start_time": "2021-09-05T22:33:50.606282",
     "status": "completed"
    },
    "tags": []
   },
   "outputs": [
    {
     "name": "stdout",
     "output_type": "stream",
     "text": [
      "Loading environment football failed: No module named 'gfootball'\n",
      "\u001b[33m[WARN]\u001b[39m (match_UuiF0jDuZB94) - Agent 0 tried to move unit u_13 onto opponent CityTile; turn 27; cmd: m u_13 e\n",
      "\u001b[33m[WARN]\u001b[39m (match_UuiF0jDuZB94) - Agent 0 tried to move unit u_13 onto opponent CityTile; turn 28; cmd: m u_13 e\n",
      "\u001b[33m[WARN]\u001b[39m (match_UuiF0jDuZB94) - Agent 0 tried to move unit u_13 onto opponent CityTile; turn 29; cmd: m u_13 e\n",
      "\u001b[33m[WARN]\u001b[39m (match_UuiF0jDuZB94) - Agent 1 tried to move unit u_17 onto opponent CityTile; turn 43; cmd: m u_17 w\n",
      "\u001b[33m[WARN]\u001b[39m (match_UuiF0jDuZB94) - Agent 1 tried to move unit u_17 onto opponent CityTile; turn 44; cmd: m u_17 w\n",
      "\u001b[33m[WARN]\u001b[39m (match_UuiF0jDuZB94) - Agent 1 tried to move unit u_17 onto opponent CityTile; turn 45; cmd: m u_17 w\n",
      "\u001b[33m[WARN]\u001b[39m (match_UuiF0jDuZB94) - Agent 0 tried to move unit u_1 onto opponent CityTile; turn 46; cmd: m u_1 e\n",
      "\u001b[33m[WARN]\u001b[39m (match_UuiF0jDuZB94) - Agent 1 tried to move unit u_17 onto opponent CityTile; turn 46; cmd: m u_17 w\n",
      "\u001b[33m[WARN]\u001b[39m (match_UuiF0jDuZB94) - turn 46; Unit u_18 collided when trying to move e to (8, 10)\n",
      "\u001b[33m[WARN]\u001b[39m (match_UuiF0jDuZB94) - Agent 0 tried to move unit u_1 onto opponent CityTile; turn 47; cmd: m u_1 e\n",
      "\u001b[33m[WARN]\u001b[39m (match_UuiF0jDuZB94) - Agent 1 tried to move unit u_17 onto opponent CityTile; turn 47; cmd: m u_17 w\n",
      "\u001b[33m[WARN]\u001b[39m (match_UuiF0jDuZB94) - turn 47; Unit u_18 collided when trying to move e to (8, 10)\n",
      "\u001b[33m[WARN]\u001b[39m (match_UuiF0jDuZB94) - Agent 0 tried to move unit u_1 onto opponent CityTile; turn 48; cmd: m u_1 e\n",
      "\u001b[33m[WARN]\u001b[39m (match_UuiF0jDuZB94) - Agent 0 tried to move unit u_1 onto opponent CityTile; turn 49; cmd: m u_1 e\n",
      "\u001b[33m[WARN]\u001b[39m (match_UuiF0jDuZB94) - Agent 0 tried to move unit u_1 onto opponent CityTile; turn 50; cmd: m u_1 e\n",
      "\u001b[33m[WARN]\u001b[39m (match_UuiF0jDuZB94) - Agent 0 tried to move unit u_18 onto opponent CityTile; turn 50; cmd: m u_18 e\n",
      "\u001b[33m[WARN]\u001b[39m (match_UuiF0jDuZB94) - Agent 0 tried to move unit u_1 onto opponent CityTile; turn 51; cmd: m u_1 e\n",
      "\u001b[33m[WARN]\u001b[39m (match_UuiF0jDuZB94) - Agent 0 tried to move unit u_18 onto opponent CityTile; turn 51; cmd: m u_18 e\n",
      "\u001b[33m[WARN]\u001b[39m (match_UuiF0jDuZB94) - Agent 0 tried to move unit u_1 onto opponent CityTile; turn 52; cmd: m u_1 e\n",
      "\u001b[33m[WARN]\u001b[39m (match_UuiF0jDuZB94) - Agent 0 tried to move unit u_18 onto opponent CityTile; turn 52; cmd: m u_18 e\n",
      "\u001b[33m[WARN]\u001b[39m (match_UuiF0jDuZB94) - Agent 0 tried to move unit u_1 onto opponent CityTile; turn 53; cmd: m u_1 e\n",
      "\u001b[33m[WARN]\u001b[39m (match_UuiF0jDuZB94) - Agent 0 tried to move unit u_1 onto opponent CityTile; turn 54; cmd: m u_1 e\n",
      "\u001b[33m[WARN]\u001b[39m (match_UuiF0jDuZB94) - Agent 0 tried to move unit u_1 onto opponent CityTile; turn 55; cmd: m u_1 e\n",
      "\u001b[33m[WARN]\u001b[39m (match_UuiF0jDuZB94) - Agent 0 tried to move unit u_1 onto opponent CityTile; turn 56; cmd: m u_1 e\n",
      "\u001b[33m[WARN]\u001b[39m (match_UuiF0jDuZB94) - Agent 0 tried to move unit u_1 onto opponent CityTile; turn 57; cmd: m u_1 s\n",
      "\u001b[33m[WARN]\u001b[39m (match_UuiF0jDuZB94) - Agent 0 tried to move unit u_1 onto opponent CityTile; turn 58; cmd: m u_1 s\n",
      "\u001b[33m[WARN]\u001b[39m (match_UuiF0jDuZB94) - Agent 0 tried to move unit u_1 onto opponent CityTile; turn 59; cmd: m u_1 s\n",
      "\u001b[33m[WARN]\u001b[39m (match_UuiF0jDuZB94) - Agent 0 tried to move unit u_1 onto opponent CityTile; turn 60; cmd: m u_1 s\n",
      "\u001b[33m[WARN]\u001b[39m (match_UuiF0jDuZB94) - Agent 0 tried to move unit u_1 onto opponent CityTile; turn 61; cmd: m u_1 s\n",
      "\u001b[33m[WARN]\u001b[39m (match_UuiF0jDuZB94) - Agent 0 tried to move unit u_1 onto opponent CityTile; turn 62; cmd: m u_1 s\n",
      "\u001b[33m[WARN]\u001b[39m (match_UuiF0jDuZB94) - Agent 0 tried to move unit u_1 onto opponent CityTile; turn 63; cmd: m u_1 s\n",
      "\u001b[33m[WARN]\u001b[39m (match_UuiF0jDuZB94) - Agent 0 tried to move unit u_1 onto opponent CityTile; turn 64; cmd: m u_1 s\n",
      "\u001b[33m[WARN]\u001b[39m (match_UuiF0jDuZB94) - Agent 0 tried to move unit u_1 onto opponent CityTile; turn 65; cmd: m u_1 s\n",
      "\u001b[33m[WARN]\u001b[39m (match_UuiF0jDuZB94) - Agent 0 tried to move unit u_1 onto opponent CityTile; turn 66; cmd: m u_1 s\n",
      "\u001b[33m[WARN]\u001b[39m (match_UuiF0jDuZB94) - Agent 0 tried to move unit u_1 onto opponent CityTile; turn 67; cmd: m u_1 s\n",
      "\u001b[33m[WARN]\u001b[39m (match_UuiF0jDuZB94) - Agent 0 tried to move unit u_1 onto opponent CityTile; turn 68; cmd: m u_1 s\n",
      "\u001b[33m[WARN]\u001b[39m (match_UuiF0jDuZB94) - Agent 0 tried to move unit u_1 onto opponent CityTile; turn 69; cmd: m u_1 s\n",
      "\u001b[33m[WARN]\u001b[39m (match_UuiF0jDuZB94) - Agent 0 tried to move unit u_1 onto opponent CityTile; turn 70; cmd: m u_1 s\n",
      "\u001b[33m[WARN]\u001b[39m (match_UuiF0jDuZB94) - Agent 0 tried to move unit u_34 onto opponent CityTile; turn 74; cmd: m u_34 e\n",
      "\u001b[33m[WARN]\u001b[39m (match_UuiF0jDuZB94) - Agent 0 tried to move unit u_34 onto opponent CityTile; turn 75; cmd: m u_34 e\n",
      "\u001b[33m[WARN]\u001b[39m (match_UuiF0jDuZB94) - Agent 0 tried to move unit u_34 onto opponent CityTile; turn 76; cmd: m u_34 e\n",
      "\u001b[33m[WARN]\u001b[39m (match_UuiF0jDuZB94) - Agent 0 tried to move unit u_34 onto opponent CityTile; turn 77; cmd: m u_34 e\n",
      "\u001b[33m[WARN]\u001b[39m (match_UuiF0jDuZB94) - Agent 0 tried to move unit u_34 onto opponent CityTile; turn 78; cmd: m u_34 e\n",
      "\u001b[33m[WARN]\u001b[39m (match_UuiF0jDuZB94) - Agent 0 tried to move unit u_34 onto opponent CityTile; turn 79; cmd: m u_34 e\n",
      "\u001b[33m[WARN]\u001b[39m (match_UuiF0jDuZB94) - Agent 0 tried to move unit u_34 onto opponent CityTile; turn 80; cmd: m u_34 e\n",
      "\u001b[33m[WARN]\u001b[39m (match_UuiF0jDuZB94) - Agent 0 tried to move unit u_34 onto opponent CityTile; turn 81; cmd: m u_34 e\n",
      "\u001b[33m[WARN]\u001b[39m (match_UuiF0jDuZB94) - Agent 0 tried to move unit u_14 onto opponent CityTile; turn 82; cmd: m u_14 e\n",
      "\u001b[33m[WARN]\u001b[39m (match_UuiF0jDuZB94) - Agent 0 tried to move unit u_14 onto opponent CityTile; turn 83; cmd: m u_14 e\n",
      "\u001b[33m[WARN]\u001b[39m (match_UuiF0jDuZB94) - Agent 0 tried to move unit u_34 onto opponent CityTile; turn 83; cmd: m u_34 e\n",
      "\u001b[33m[WARN]\u001b[39m (match_UuiF0jDuZB94) - Agent 0 tried to move unit u_14 onto opponent CityTile; turn 84; cmd: m u_14 e\n",
      "\u001b[33m[WARN]\u001b[39m (match_UuiF0jDuZB94) - Agent 0 tried to move unit u_18 onto opponent CityTile; turn 84; cmd: m u_18 e\n",
      "\u001b[33m[WARN]\u001b[39m (match_UuiF0jDuZB94) - Agent 0 tried to move unit u_34 onto opponent CityTile; turn 84; cmd: m u_34 e\n",
      "\u001b[33m[WARN]\u001b[39m (match_UuiF0jDuZB94) - Agent 0 tried to move unit u_14 onto opponent CityTile; turn 85; cmd: m u_14 e\n",
      "\u001b[33m[WARN]\u001b[39m (match_UuiF0jDuZB94) - Agent 0 tried to move unit u_10 onto opponent CityTile; turn 85; cmd: m u_10 e\n",
      "\u001b[33m[WARN]\u001b[39m (match_UuiF0jDuZB94) - turn 85; Unit u_25 collided when trying to move e to (8, 13)\n",
      "\u001b[33m[WARN]\u001b[39m (match_UuiF0jDuZB94) - Agent 0 tried to move unit u_37 onto opponent CityTile; turn 86; cmd: m u_37 e\n",
      "\u001b[33m[WARN]\u001b[39m (match_UuiF0jDuZB94) - Agent 0 tried to move unit u_14 onto opponent CityTile; turn 87; cmd: m u_14 e\n",
      "\u001b[33m[WARN]\u001b[39m (match_UuiF0jDuZB94) - Agent 0 tried to move unit u_37 onto opponent CityTile; turn 87; cmd: m u_37 e\n",
      "\u001b[33m[WARN]\u001b[39m (match_UuiF0jDuZB94) - turn 87; Unit u_25 collided when trying to move e to (8, 13)\n",
      "\u001b[33m[WARN]\u001b[39m (match_UuiF0jDuZB94) - Agent 0 tried to move unit u_14 onto opponent CityTile; turn 88; cmd: m u_14 e\n",
      "\u001b[33m[WARN]\u001b[39m (match_UuiF0jDuZB94) - Agent 0 tried to move unit u_37 onto opponent CityTile; turn 88; cmd: m u_37 e\n",
      "\u001b[33m[WARN]\u001b[39m (match_UuiF0jDuZB94) - Agent 1 sent an extra command. Unit can perform only one action at a time; turn 88; cmd: m u_49 s\n",
      "\u001b[33m[WARN]\u001b[39m (match_UuiF0jDuZB94) - turn 88; Unit u_25 collided when trying to move e to (8, 13)\n",
      "\u001b[33m[WARN]\u001b[39m (match_UuiF0jDuZB94) - Agent 0 tried to move unit u_37 onto opponent CityTile; turn 89; cmd: m u_37 e\n",
      "\u001b[33m[WARN]\u001b[39m (match_UuiF0jDuZB94) - Agent 1 sent an extra command. Unit can perform only one action at a time; turn 89; cmd: m u_50 e\n",
      "\u001b[33m[WARN]\u001b[39m (match_UuiF0jDuZB94) - Agent 0 tried to move unit u_14 onto opponent CityTile; turn 90; cmd: m u_14 e\n",
      "\u001b[33m[WARN]\u001b[39m (match_UuiF0jDuZB94) - Agent 0 tried to move unit u_37 onto opponent CityTile; turn 90; cmd: m u_37 e\n",
      "\u001b[33m[WARN]\u001b[39m (match_UuiF0jDuZB94) - Agent 1 sent an extra command. Unit can perform only one action at a time; turn 90; cmd: m u_54 s\n",
      "\u001b[33m[WARN]\u001b[39m (match_UuiF0jDuZB94) - Agent 1 sent an extra command. Unit can perform only one action at a time; turn 90; cmd: m u_55 w\n",
      "\u001b[33m[WARN]\u001b[39m (match_UuiF0jDuZB94) - turn 90; Unit u_25 collided when trying to move e to (8, 13)\n",
      "\u001b[33m[WARN]\u001b[39m (match_UuiF0jDuZB94) - Agent 0 tried to move unit u_37 onto opponent CityTile; turn 91; cmd: m u_37 e\n",
      "\u001b[33m[WARN]\u001b[39m (match_UuiF0jDuZB94) - Agent 0 tried to move unit u_37 onto opponent CityTile; turn 92; cmd: m u_37 e\n",
      "\u001b[33m[WARN]\u001b[39m (match_UuiF0jDuZB94) - Agent 0 tried to move unit u_37 onto opponent CityTile; turn 93; cmd: m u_37 e\n"
     ]
    },
    {
     "name": "stdout",
     "output_type": "stream",
     "text": [
      "\u001b[33m[WARN]\u001b[39m (match_UuiF0jDuZB94) - Agent 0 tried to move unit u_37 onto opponent CityTile; turn 94; cmd: m u_37 e\n",
      "\u001b[33m[WARN]\u001b[39m (match_UuiF0jDuZB94) - Agent 0 tried to move unit u_37 onto opponent CityTile; turn 95; cmd: m u_37 e\n",
      "\u001b[33m[WARN]\u001b[39m (match_UuiF0jDuZB94) - Agent 0 tried to move unit u_37 onto opponent CityTile; turn 96; cmd: m u_37 e\n",
      "\u001b[33m[WARN]\u001b[39m (match_UuiF0jDuZB94) - Agent 0 tried to move unit u_37 onto opponent CityTile; turn 97; cmd: m u_37 e\n",
      "\u001b[33m[WARN]\u001b[39m (match_UuiF0jDuZB94) - Agent 0 tried to move unit u_37 onto opponent CityTile; turn 98; cmd: m u_37 e\n",
      "\u001b[33m[WARN]\u001b[39m (match_UuiF0jDuZB94) - Agent 0 tried to move unit u_37 onto opponent CityTile; turn 99; cmd: m u_37 e\n",
      "\u001b[33m[WARN]\u001b[39m (match_UuiF0jDuZB94) - Agent 0 tried to move unit u_37 onto opponent CityTile; turn 100; cmd: m u_37 e\n",
      "\u001b[33m[WARN]\u001b[39m (match_UuiF0jDuZB94) - Agent 0 tried to move unit u_10 onto opponent CityTile; turn 109; cmd: m u_10 e\n",
      "\u001b[33m[WARN]\u001b[39m (match_UuiF0jDuZB94) - Agent 0 tried to move unit u_10 onto opponent CityTile; turn 110; cmd: m u_10 e\n",
      "\u001b[33m[WARN]\u001b[39m (match_UuiF0jDuZB94) - Agent 0 tried to move unit u_10 onto opponent CityTile; turn 111; cmd: m u_10 e\n",
      "\u001b[33m[WARN]\u001b[39m (match_UuiF0jDuZB94) - Agent 0 tried to move unit u_14 onto opponent CityTile; turn 112; cmd: m u_14 e\n",
      "\u001b[33m[WARN]\u001b[39m (match_UuiF0jDuZB94) - Agent 0 tried to move unit u_10 onto opponent CityTile; turn 112; cmd: m u_10 e\n",
      "\u001b[33m[WARN]\u001b[39m (match_UuiF0jDuZB94) - Agent 0 tried to move unit u_14 onto opponent CityTile; turn 113; cmd: m u_14 e\n",
      "\u001b[33m[WARN]\u001b[39m (match_UuiF0jDuZB94) - Agent 0 tried to move unit u_10 onto opponent CityTile; turn 113; cmd: m u_10 e\n",
      "\u001b[33m[WARN]\u001b[39m (match_UuiF0jDuZB94) - Agent 0 tried to move unit u_14 onto opponent CityTile; turn 114; cmd: m u_14 e\n",
      "\u001b[33m[WARN]\u001b[39m (match_UuiF0jDuZB94) - Agent 0 tried to move unit u_10 onto opponent CityTile; turn 114; cmd: m u_10 e\n",
      "\u001b[33m[WARN]\u001b[39m (match_UuiF0jDuZB94) - Agent 0 tried to move unit u_63 onto opponent CityTile; turn 114; cmd: m u_63 e\n",
      "\u001b[33m[WARN]\u001b[39m (match_UuiF0jDuZB94) - Agent 0 tried to move unit u_14 onto opponent CityTile; turn 115; cmd: m u_14 e\n",
      "\u001b[33m[WARN]\u001b[39m (match_UuiF0jDuZB94) - Agent 0 tried to move unit u_10 onto opponent CityTile; turn 115; cmd: m u_10 e\n",
      "\u001b[33m[WARN]\u001b[39m (match_UuiF0jDuZB94) - Agent 0 tried to move unit u_63 onto opponent CityTile; turn 115; cmd: m u_63 e\n",
      "\u001b[33m[WARN]\u001b[39m (match_UuiF0jDuZB94) - Agent 0 tried to move unit u_14 onto opponent CityTile; turn 116; cmd: m u_14 e\n",
      "\u001b[33m[WARN]\u001b[39m (match_UuiF0jDuZB94) - Agent 0 tried to move unit u_10 onto opponent CityTile; turn 116; cmd: m u_10 e\n",
      "\u001b[33m[WARN]\u001b[39m (match_UuiF0jDuZB94) - Agent 0 tried to move unit u_63 onto opponent CityTile; turn 116; cmd: m u_63 e\n",
      "\u001b[33m[WARN]\u001b[39m (match_UuiF0jDuZB94) - Agent 0 tried to move unit u_14 onto opponent CityTile; turn 117; cmd: m u_14 e\n",
      "\u001b[33m[WARN]\u001b[39m (match_UuiF0jDuZB94) - Agent 0 tried to move unit u_10 onto opponent CityTile; turn 117; cmd: m u_10 e\n",
      "\u001b[33m[WARN]\u001b[39m (match_UuiF0jDuZB94) - Agent 0 tried to move unit u_63 onto opponent CityTile; turn 117; cmd: m u_63 e\n",
      "\u001b[33m[WARN]\u001b[39m (match_UuiF0jDuZB94) - Agent 0 tried to move unit u_14 onto opponent CityTile; turn 118; cmd: m u_14 e\n",
      "\u001b[33m[WARN]\u001b[39m (match_UuiF0jDuZB94) - Agent 0 tried to move unit u_10 onto opponent CityTile; turn 118; cmd: m u_10 e\n",
      "\u001b[33m[WARN]\u001b[39m (match_UuiF0jDuZB94) - Agent 0 tried to move unit u_63 onto opponent CityTile; turn 118; cmd: m u_63 e\n",
      "\u001b[33m[WARN]\u001b[39m (match_UuiF0jDuZB94) - Agent 0 tried to move unit u_14 onto opponent CityTile; turn 119; cmd: m u_14 e\n",
      "\u001b[33m[WARN]\u001b[39m (match_UuiF0jDuZB94) - Agent 0 tried to move unit u_14 onto opponent CityTile; turn 120; cmd: m u_14 e\n",
      "\u001b[33m[WARN]\u001b[39m (match_UuiF0jDuZB94) - Agent 0 tried to move unit u_14 onto opponent CityTile; turn 121; cmd: m u_14 e\n",
      "\u001b[33m[WARN]\u001b[39m (match_UuiF0jDuZB94) - Agent 0 tried to move unit u_14 onto opponent CityTile; turn 122; cmd: m u_14 n\n",
      "\u001b[33m[WARN]\u001b[39m (match_UuiF0jDuZB94) - Agent 0 tried to move unit u_14 onto opponent CityTile; turn 123; cmd: m u_14 n\n",
      "\u001b[33m[WARN]\u001b[39m (match_UuiF0jDuZB94) - Agent 0 tried to move unit u_14 onto opponent CityTile; turn 124; cmd: m u_14 n\n",
      "\u001b[33m[WARN]\u001b[39m (match_UuiF0jDuZB94) - Agent 0 tried to move unit u_14 onto opponent CityTile; turn 125; cmd: m u_14 n\n",
      "\u001b[33m[WARN]\u001b[39m (match_UuiF0jDuZB94) - Agent 0 tried to move unit u_14 onto opponent CityTile; turn 126; cmd: m u_14 n\n",
      "\u001b[33m[WARN]\u001b[39m (match_UuiF0jDuZB94) - Agent 0 tried to move unit u_14 onto opponent CityTile; turn 127; cmd: m u_14 n\n",
      "\u001b[33m[WARN]\u001b[39m (match_UuiF0jDuZB94) - Agent 0 tried to move unit u_14 onto opponent CityTile; turn 128; cmd: m u_14 n\n",
      "\u001b[33m[WARN]\u001b[39m (match_UuiF0jDuZB94) - Agent 1 sent an extra command. Unit can perform only one action at a time; turn 128; cmd: m u_82 s\n",
      "\u001b[33m[WARN]\u001b[39m (match_UuiF0jDuZB94) - Agent 0 tried to move unit u_14 onto opponent CityTile; turn 129; cmd: m u_14 n\n",
      "\u001b[33m[WARN]\u001b[39m (match_UuiF0jDuZB94) - Agent 1 sent an extra command. Unit can perform only one action at a time; turn 129; cmd: m u_28 s\n",
      "\u001b[33m[WARN]\u001b[39m (match_UuiF0jDuZB94) - Agent 1 sent an extra command. Unit can perform only one action at a time; turn 129; cmd: m u_33 w\n",
      "\u001b[33m[WARN]\u001b[39m (match_UuiF0jDuZB94) - Agent 1 sent an extra command. Unit can perform only one action at a time; turn 129; cmd: m u_83 e\n",
      "\u001b[33m[WARN]\u001b[39m (match_UuiF0jDuZB94) - Agent 0 tried to move unit u_14 onto opponent CityTile; turn 130; cmd: m u_14 n\n",
      "\u001b[33m[WARN]\u001b[39m (match_UuiF0jDuZB94) - Agent 1 sent an extra command. Unit can perform only one action at a time; turn 130; cmd: m u_28 w\n",
      "\u001b[33m[WARN]\u001b[39m (match_UuiF0jDuZB94) - Agent 0 tried to move unit u_14 onto opponent CityTile; turn 131; cmd: m u_14 n\n",
      "\u001b[33m[WARN]\u001b[39m (match_UuiF0jDuZB94) - Agent 1 sent an extra command. Unit can perform only one action at a time; turn 131; cmd: m u_33 s\n",
      "\u001b[33m[WARN]\u001b[39m (match_UuiF0jDuZB94) - Agent 1 sent an extra command. Unit can perform only one action at a time; turn 131; cmd: m u_84 s\n",
      "\u001b[33m[WARN]\u001b[39m (match_UuiF0jDuZB94) - Agent 0 tried to move unit u_14 onto opponent CityTile; turn 132; cmd: m u_14 n\n",
      "\u001b[33m[WARN]\u001b[39m (match_UuiF0jDuZB94) - Agent 1 sent an extra command. Unit can perform only one action at a time; turn 132; cmd: m u_28 s\n",
      "\u001b[33m[WARN]\u001b[39m (match_UuiF0jDuZB94) - Agent 1 sent an extra command. Unit can perform only one action at a time; turn 132; cmd: m u_33 s\n",
      "\u001b[33m[WARN]\u001b[39m (match_UuiF0jDuZB94) - Agent 0 tried to move unit u_14 onto opponent CityTile; turn 133; cmd: m u_14 n\n",
      "\u001b[33m[WARN]\u001b[39m (match_UuiF0jDuZB94) - Agent 1 sent an extra command. Unit can perform only one action at a time; turn 133; cmd: m u_84 s\n",
      "\u001b[33m[WARN]\u001b[39m (match_UuiF0jDuZB94) - Agent 0 tried to move unit u_14 onto opponent CityTile; turn 134; cmd: m u_14 n\n",
      "\u001b[33m[WARN]\u001b[39m (match_UuiF0jDuZB94) - Agent 0 tried to move unit u_14 onto opponent CityTile; turn 135; cmd: m u_14 n\n",
      "\u001b[33m[WARN]\u001b[39m (match_UuiF0jDuZB94) - Agent 0 tried to move unit u_14 onto opponent CityTile; turn 136; cmd: m u_14 n\n",
      "\u001b[33m[WARN]\u001b[39m (match_UuiF0jDuZB94) - Agent 0 tried to move unit u_14 onto opponent CityTile; turn 137; cmd: m u_14 n\n",
      "\u001b[33m[WARN]\u001b[39m (match_UuiF0jDuZB94) - Agent 0 tried to move unit u_14 onto opponent CityTile; turn 138; cmd: m u_14 n\n",
      "\u001b[33m[WARN]\u001b[39m (match_UuiF0jDuZB94) - Agent 0 tried to move unit u_14 onto opponent CityTile; turn 139; cmd: m u_14 n\n",
      "\u001b[33m[WARN]\u001b[39m (match_UuiF0jDuZB94) - Agent 0 tried to move unit u_14 onto opponent CityTile; turn 140; cmd: m u_14 n\n",
      "\u001b[33m[WARN]\u001b[39m (match_UuiF0jDuZB94) - Agent 0 tried to move unit u_14 onto opponent CityTile; turn 141; cmd: m u_14 n\n",
      "\u001b[33m[WARN]\u001b[39m (match_UuiF0jDuZB94) - Agent 0 tried to move unit u_14 onto opponent CityTile; turn 142; cmd: m u_14 n\n",
      "\u001b[33m[WARN]\u001b[39m (match_UuiF0jDuZB94) - Agent 0 tried to move unit u_14 onto opponent CityTile; turn 143; cmd: m u_14 n\n",
      "\u001b[33m[WARN]\u001b[39m (match_UuiF0jDuZB94) - Agent 0 tried to move unit u_14 onto opponent CityTile; turn 144; cmd: m u_14 n\n",
      "\u001b[33m[WARN]\u001b[39m (match_UuiF0jDuZB94) - Agent 0 tried to move unit u_14 onto opponent CityTile; turn 145; cmd: m u_14 n\n",
      "\u001b[33m[WARN]\u001b[39m (match_UuiF0jDuZB94) - Agent 0 tried to move unit u_14 onto opponent CityTile; turn 146; cmd: m u_14 n\n",
      "\u001b[33m[WARN]\u001b[39m (match_UuiF0jDuZB94) - Agent 0 tried to move unit u_14 onto opponent CityTile; turn 147; cmd: m u_14 n\n",
      "\u001b[33m[WARN]\u001b[39m (match_UuiF0jDuZB94) - Agent 0 tried to move unit u_14 onto opponent CityTile; turn 148; cmd: m u_14 n\n"
     ]
    },
    {
     "name": "stdout",
     "output_type": "stream",
     "text": [
      "\u001b[33m[WARN]\u001b[39m (match_UuiF0jDuZB94) - Agent 0 tried to move unit u_14 onto opponent CityTile; turn 149; cmd: m u_14 n\n",
      "\u001b[33m[WARN]\u001b[39m (match_UuiF0jDuZB94) - Agent 1 tried to move unit u_54 onto opponent CityTile; turn 149; cmd: m u_54 w\n",
      "\u001b[33m[WARN]\u001b[39m (match_UuiF0jDuZB94) - Agent 0 tried to move unit u_14 onto opponent CityTile; turn 150; cmd: m u_14 n\n",
      "\u001b[33m[WARN]\u001b[39m (match_UuiF0jDuZB94) - Agent 0 tried to move unit u_43 onto opponent CityTile; turn 181; cmd: m u_43 n\n",
      "\u001b[33m[WARN]\u001b[39m (match_UuiF0jDuZB94) - turn 181; Unit u_94 collided when trying to move n to (0, 3)\n",
      "\u001b[33m[WARN]\u001b[39m (match_UuiF0jDuZB94) - Agent 0 tried to move unit u_43 onto opponent CityTile; turn 182; cmd: m u_43 n\n",
      "\u001b[33m[WARN]\u001b[39m (match_UuiF0jDuZB94) - turn 182; Unit u_73 collided when trying to move n to (0, 3)\n",
      "\u001b[33m[WARN]\u001b[39m (match_UuiF0jDuZB94) - Agent 0 tried to move unit u_43 onto opponent CityTile; turn 183; cmd: m u_43 n\n",
      "\u001b[33m[WARN]\u001b[39m (match_UuiF0jDuZB94) - turn 183; Unit u_73 collided when trying to move n to (0, 3)\n",
      "\u001b[33m[WARN]\u001b[39m (match_UuiF0jDuZB94) - Agent 0 tried to move unit u_43 onto opponent CityTile; turn 184; cmd: m u_43 n\n",
      "\u001b[33m[WARN]\u001b[39m (match_UuiF0jDuZB94) - turn 184; Unit u_73 collided when trying to move n to (0, 3)\n",
      "\u001b[33m[WARN]\u001b[39m (match_UuiF0jDuZB94) - Agent 0 tried to move unit u_43 onto opponent CityTile; turn 185; cmd: m u_43 n\n",
      "\u001b[33m[WARN]\u001b[39m (match_UuiF0jDuZB94) - turn 185; Unit u_73 collided when trying to move n to (0, 3)\n",
      "\u001b[33m[WARN]\u001b[39m (match_UuiF0jDuZB94) - Agent 0 tried to move unit u_43 onto opponent CityTile; turn 186; cmd: m u_43 n\n",
      "\u001b[33m[WARN]\u001b[39m (match_UuiF0jDuZB94) - turn 186; Unit u_73 collided when trying to move n to (0, 3)\n",
      "\u001b[33m[WARN]\u001b[39m (match_UuiF0jDuZB94) - Agent 0 tried to move unit u_43 onto opponent CityTile; turn 187; cmd: m u_43 n\n",
      "\u001b[33m[WARN]\u001b[39m (match_UuiF0jDuZB94) - turn 187; Unit u_73 collided when trying to move n to (0, 3)\n",
      "\u001b[33m[WARN]\u001b[39m (match_UuiF0jDuZB94) - Agent 0 tried to move unit u_43 onto opponent CityTile; turn 188; cmd: m u_43 n\n",
      "\u001b[33m[WARN]\u001b[39m (match_UuiF0jDuZB94) - turn 188; Unit u_73 collided when trying to move n to (0, 3)\n",
      "\u001b[33m[WARN]\u001b[39m (match_UuiF0jDuZB94) - Agent 0 tried to move unit u_43 onto opponent CityTile; turn 189; cmd: m u_43 n\n",
      "\u001b[33m[WARN]\u001b[39m (match_UuiF0jDuZB94) - turn 189; Unit u_73 collided when trying to move n to (0, 3)\n",
      "\u001b[33m[WARN]\u001b[39m (match_UuiF0jDuZB94) - Agent 0 tried to move unit u_111 onto opponent CityTile; turn 205; cmd: m u_111 n\n",
      "\u001b[33m[WARN]\u001b[39m (match_UuiF0jDuZB94) - Agent 0 tried to move unit u_111 onto opponent CityTile; turn 206; cmd: m u_111 n\n",
      "\u001b[33m[WARN]\u001b[39m (match_UuiF0jDuZB94) - Agent 0 tried to move unit u_111 onto opponent CityTile; turn 207; cmd: m u_111 n\n",
      "\u001b[33m[WARN]\u001b[39m (match_UuiF0jDuZB94) - Agent 0 tried to move unit u_111 onto opponent CityTile; turn 208; cmd: m u_111 n\n",
      "\u001b[33m[WARN]\u001b[39m (match_UuiF0jDuZB94) - Agent 0 tried to move unit u_111 onto opponent CityTile; turn 209; cmd: m u_111 n\n",
      "\u001b[33m[WARN]\u001b[39m (match_UuiF0jDuZB94) - Agent 0 tried to move unit u_111 onto opponent CityTile; turn 210; cmd: m u_111 n\n",
      "\u001b[33m[WARN]\u001b[39m (match_UuiF0jDuZB94) - Agent 0 tried to move unit u_111 onto opponent CityTile; turn 211; cmd: m u_111 n\n",
      "\u001b[33m[WARN]\u001b[39m (match_UuiF0jDuZB94) - Agent 0 tried to move unit u_111 onto opponent CityTile; turn 212; cmd: m u_111 n\n",
      "\u001b[33m[WARN]\u001b[39m (match_UuiF0jDuZB94) - Agent 0 tried to move unit u_111 onto opponent CityTile; turn 213; cmd: m u_111 n\n",
      "\u001b[33m[WARN]\u001b[39m (match_UuiF0jDuZB94) - Agent 0 tried to move unit u_111 onto opponent CityTile; turn 214; cmd: m u_111 n\n",
      "\u001b[33m[WARN]\u001b[39m (match_UuiF0jDuZB94) - Agent 0 tried to move unit u_111 onto opponent CityTile; turn 215; cmd: m u_111 n\n",
      "\u001b[33m[WARN]\u001b[39m (match_UuiF0jDuZB94) - Agent 0 tried to move unit u_111 onto opponent CityTile; turn 216; cmd: m u_111 n\n",
      "\u001b[33m[WARN]\u001b[39m (match_UuiF0jDuZB94) - Agent 0 tried to move unit u_111 onto opponent CityTile; turn 217; cmd: m u_111 n\n",
      "\u001b[33m[WARN]\u001b[39m (match_UuiF0jDuZB94) - Agent 0 tried to move unit u_111 onto opponent CityTile; turn 218; cmd: m u_111 n\n",
      "\u001b[33m[WARN]\u001b[39m (match_UuiF0jDuZB94) - Agent 0 tried to move unit u_111 onto opponent CityTile; turn 219; cmd: m u_111 n\n",
      "\u001b[33m[WARN]\u001b[39m (match_UuiF0jDuZB94) - Agent 0 tried to move unit u_111 onto opponent CityTile; turn 220; cmd: m u_111 n\n",
      "\u001b[33m[WARN]\u001b[39m (match_UuiF0jDuZB94) - Agent 0 tried to move unit u_111 onto opponent CityTile; turn 221; cmd: m u_111 n\n",
      "\u001b[33m[WARN]\u001b[39m (match_UuiF0jDuZB94) - Agent 0 tried to move unit u_111 onto opponent CityTile; turn 222; cmd: m u_111 n\n",
      "\u001b[33m[WARN]\u001b[39m (match_UuiF0jDuZB94) - Agent 0 tried to move unit u_111 onto opponent CityTile; turn 223; cmd: m u_111 n\n",
      "\u001b[33m[WARN]\u001b[39m (match_UuiF0jDuZB94) - Agent 0 tried to move unit u_111 onto opponent CityTile; turn 224; cmd: m u_111 n\n",
      "\u001b[33m[WARN]\u001b[39m (match_UuiF0jDuZB94) - Agent 0 tried to move unit u_111 onto opponent CityTile; turn 225; cmd: m u_111 n\n",
      "\u001b[33m[WARN]\u001b[39m (match_UuiF0jDuZB94) - Agent 0 tried to move unit u_111 onto opponent CityTile; turn 226; cmd: m u_111 n\n",
      "\u001b[33m[WARN]\u001b[39m (match_UuiF0jDuZB94) - Agent 0 tried to move unit u_111 onto opponent CityTile; turn 227; cmd: m u_111 n\n",
      "\u001b[33m[WARN]\u001b[39m (match_UuiF0jDuZB94) - Agent 0 tried to move unit u_111 onto opponent CityTile; turn 228; cmd: m u_111 n\n",
      "\u001b[33m[WARN]\u001b[39m (match_UuiF0jDuZB94) - Agent 0 tried to move unit u_111 onto opponent CityTile; turn 229; cmd: m u_111 n\n",
      "\u001b[33m[WARN]\u001b[39m (match_UuiF0jDuZB94) - Agent 0 tried to move unit u_111 onto opponent CityTile; turn 230; cmd: m u_111 n\n",
      "\u001b[33m[WARN]\u001b[39m (match_UuiF0jDuZB94) - Agent 0 tried to move unit u_129 onto opponent CityTile; turn 245; cmd: m u_129 n\n",
      "\u001b[33m[WARN]\u001b[39m (match_UuiF0jDuZB94) - Agent 0 tried to move unit u_129 onto opponent CityTile; turn 246; cmd: m u_129 n\n",
      "\u001b[33m[WARN]\u001b[39m (match_UuiF0jDuZB94) - Agent 0 tried to move unit u_129 onto opponent CityTile; turn 247; cmd: m u_129 n\n",
      "\u001b[33m[WARN]\u001b[39m (match_UuiF0jDuZB94) - Agent 0 tried to move unit u_129 onto opponent CityTile; turn 248; cmd: m u_129 n\n",
      "\u001b[33m[WARN]\u001b[39m (match_UuiF0jDuZB94) - Agent 0 tried to move unit u_129 onto opponent CityTile; turn 249; cmd: m u_129 n\n",
      "\u001b[33m[WARN]\u001b[39m (match_UuiF0jDuZB94) - Agent 0 tried to move unit u_129 onto opponent CityTile; turn 250; cmd: m u_129 n\n",
      "\u001b[33m[WARN]\u001b[39m (match_UuiF0jDuZB94) - Agent 0 tried to move unit u_129 onto opponent CityTile; turn 251; cmd: m u_129 n\n",
      "\u001b[33m[WARN]\u001b[39m (match_UuiF0jDuZB94) - Agent 0 tried to move unit u_129 onto opponent CityTile; turn 252; cmd: m u_129 n\n",
      "\u001b[33m[WARN]\u001b[39m (match_UuiF0jDuZB94) - Agent 0 tried to move unit u_129 onto opponent CityTile; turn 253; cmd: m u_129 n\n",
      "\u001b[33m[WARN]\u001b[39m (match_UuiF0jDuZB94) - Agent 0 tried to move unit u_129 onto opponent CityTile; turn 254; cmd: m u_129 n\n",
      "\u001b[33m[WARN]\u001b[39m (match_UuiF0jDuZB94) - Agent 0 tried to move unit u_129 onto opponent CityTile; turn 255; cmd: m u_129 n\n",
      "\u001b[33m[WARN]\u001b[39m (match_UuiF0jDuZB94) - Agent 0 tried to move unit u_129 onto opponent CityTile; turn 256; cmd: m u_129 n\n",
      "\u001b[33m[WARN]\u001b[39m (match_UuiF0jDuZB94) - Agent 0 tried to move unit u_129 onto opponent CityTile; turn 257; cmd: m u_129 n\n",
      "\u001b[33m[WARN]\u001b[39m (match_UuiF0jDuZB94) - Agent 0 tried to move unit u_129 onto opponent CityTile; turn 258; cmd: m u_129 n\n",
      "\u001b[33m[WARN]\u001b[39m (match_UuiF0jDuZB94) - Agent 0 tried to move unit u_129 onto opponent CityTile; turn 259; cmd: m u_129 n\n",
      "\u001b[33m[WARN]\u001b[39m (match_UuiF0jDuZB94) - Agent 0 tried to move unit u_129 onto opponent CityTile; turn 260; cmd: m u_129 n\n",
      "\u001b[33m[WARN]\u001b[39m (match_UuiF0jDuZB94) - Agent 0 tried to move unit u_129 onto opponent CityTile; turn 261; cmd: m u_129 n\n",
      "\u001b[33m[WARN]\u001b[39m (match_UuiF0jDuZB94) - Agent 0 tried to move unit u_129 onto opponent CityTile; turn 262; cmd: m u_129 n\n",
      "\u001b[33m[WARN]\u001b[39m (match_UuiF0jDuZB94) - Agent 0 tried to move unit u_129 onto opponent CityTile; turn 263; cmd: m u_129 n\n",
      "\u001b[33m[WARN]\u001b[39m (match_UuiF0jDuZB94) - Agent 0 tried to move unit u_129 onto opponent CityTile; turn 264; cmd: m u_129 n\n",
      "\u001b[33m[WARN]\u001b[39m (match_UuiF0jDuZB94) - Agent 0 tried to move unit u_129 onto opponent CityTile; turn 265; cmd: m u_129 n\n",
      "\u001b[33m[WARN]\u001b[39m (match_UuiF0jDuZB94) - Agent 0 tried to move unit u_129 onto opponent CityTile; turn 266; cmd: m u_129 n\n",
      "\u001b[33m[WARN]\u001b[39m (match_UuiF0jDuZB94) - Agent 0 tried to move unit u_129 onto opponent CityTile; turn 267; cmd: m u_129 n\n",
      "\u001b[33m[WARN]\u001b[39m (match_UuiF0jDuZB94) - Agent 0 tried to move unit u_129 onto opponent CityTile; turn 268; cmd: m u_129 n\n",
      "\u001b[33m[WARN]\u001b[39m (match_UuiF0jDuZB94) - Agent 0 tried to move unit u_129 onto opponent CityTile; turn 269; cmd: m u_129 n\n",
      "\u001b[33m[WARN]\u001b[39m (match_UuiF0jDuZB94) - Agent 0 tried to move unit u_129 onto opponent CityTile; turn 270; cmd: m u_129 n\n"
     ]
    }
   ],
   "source": [
    "# run another match but with our empty agent\n",
    "from kaggle_environments import make\n",
    "import json\n",
    "env = make(\"lux_ai_2021\", configuration={\"seed\": 656400230, \"loglevel\": 2}, debug=True)\n",
    "steps = env.run([\"simple_swarm2/agent.py\", \"simple_swarm4/agent.py\"])"
   ]
  },
  {
   "cell_type": "code",
   "execution_count": 2,
   "metadata": {
    "execution": {
     "iopub.execute_input": "2021-09-05T22:33:58.349571Z",
     "iopub.status.busy": "2021-09-05T22:33:58.344441Z",
     "iopub.status.idle": "2021-09-05T22:33:58.463970Z",
     "shell.execute_reply": "2021-09-05T22:33:58.463270Z"
    },
    "papermill": {
     "duration": 0.340343,
     "end_time": "2021-09-05T22:33:58.464108",
     "exception": false,
     "start_time": "2021-09-05T22:33:58.123765",
     "status": "completed"
    },
    "tags": []
   },
   "outputs": [],
   "source": [
    "# save the replay as a file. if working locally this should appear in your current directory, otherwise you can download\n",
    "# from this kaggle notebook by opening the output section of the data panel on the right\n",
    "replay = env.toJSON()\n",
    "with open(\"replay.json\", \"w\") as f:\n",
    "    json.dump(replay, f)\n",
    "# this replay can then be watched here https://2021vis.lux-ai.org/"
   ]
  },
  {
   "cell_type": "markdown",
   "metadata": {
    "papermill": {
     "duration": 0.099891,
     "end_time": "2021-09-05T22:33:58.662344",
     "exception": false,
     "start_time": "2021-09-05T22:33:58.562453",
     "status": "completed"
    },
    "tags": []
   },
   "source": [
    "## Create a submission\n",
    "Now we need to create a .tar.gz file with main.py (and agent.py) at the top level. We can then upload this!"
   ]
  },
  {
   "cell_type": "code",
   "execution_count": 3,
   "metadata": {
    "execution": {
     "iopub.execute_input": "2021-09-05T22:33:58.866088Z",
     "iopub.status.busy": "2021-09-05T22:33:58.862039Z",
     "iopub.status.idle": "2021-09-05T22:33:59.620802Z",
     "shell.execute_reply": "2021-09-05T22:33:59.621295Z",
     "shell.execute_reply.started": "2021-08-15T01:54:21.388123Z"
    },
    "papermill": {
     "duration": 0.861101,
     "end_time": "2021-09-05T22:33:59.621474",
     "exception": false,
     "start_time": "2021-09-05T22:33:58.760373",
     "status": "completed"
    },
    "tags": []
   },
   "outputs": [],
   "source": [
    "!tar -czf submission.tar.gz *"
   ]
  },
  {
   "cell_type": "markdown",
   "metadata": {
    "papermill": {
     "duration": 0.100277,
     "end_time": "2021-09-05T22:33:59.818743",
     "exception": false,
     "start_time": "2021-09-05T22:33:59.718466",
     "status": "completed"
    },
    "tags": []
   },
   "source": [
    "## Submit\n",
    "Now open the /kaggle/working folder and find submission.tar.gz, download that file, navigate to the \"MySubmissions\" tab in https://www.kaggle.com/c/lux-ai-2021/ and upload your submission! It should play a validation match against itself and once it succeeds it will be automatically matched against other players' submissions. Newer submissions will be prioritized for games over older ones. Your team is limited in the number of succesful submissions per day so we highly recommend testing your bot locally before submitting."
   ]
  },
  {
   "cell_type": "markdown",
   "metadata": {
    "papermill": {
     "duration": 0.097021,
     "end_time": "2021-09-05T22:34:00.012206",
     "exception": false,
     "start_time": "2021-09-05T22:33:59.915185",
     "status": "completed"
    },
    "tags": []
   },
   "source": [
    "## Additional things to check out\n",
    "\n",
    "Make sure you check out the Bot API at https://github.com/Lux-AI-Challenge/Lux-Design-2021/tree/master/kits\n",
    "\n",
    "This documents what you can do using the starter kit files in addition to telling you how to use the annotation debug commands that let you annotate directly on a replay (draw lines, circle things etc.)\n",
    "\n",
    "You can upload repaly files like the JSON file created earlier to the online replay viewer https://2021vis.lux-ai.org/\n",
    "\n",
    "For a local (faster) version of the replay viewer, follow installation instructions here https://github.com/Lux-AI-Challenge/Lux-Viewer-2021"
   ]
  },
  {
   "cell_type": "markdown",
   "metadata": {
    "papermill": {
     "duration": 0.096088,
     "end_time": "2021-09-05T22:34:00.207087",
     "exception": false,
     "start_time": "2021-09-05T22:34:00.110999",
     "status": "completed"
    },
    "tags": []
   },
   "source": [
    "## CLI Tool\n",
    "\n",
    "There's a separate CLI tool that can also be used to run matches. It's recommended for Jupyter Notebook users to stick with just this quickstart notebook, and all other users including python users to follow the instructions on https://github.com/Lux-AI-Challenge/Lux-Design-2021\n",
    "\n",
    "The other benefit however of using the CLI tool is that it generates much smaller, \"stateless\" replays and also lets you run a mini leaderboard on multiple bots ranked by various ranking algorithms"
   ]
  }
 ],
 "metadata": {
  "kernelspec": {
   "display_name": "Python 3",
   "language": "python",
   "name": "python3"
  },
  "language_info": {
   "codemirror_mode": {
    "name": "ipython",
    "version": 3
   },
   "file_extension": ".py",
   "mimetype": "text/x-python",
   "name": "python",
   "nbconvert_exporter": "python",
   "pygments_lexer": "ipython3",
   "version": "3.8.1"
  },
  "papermill": {
   "default_parameters": {},
   "duration": 38.898999,
   "end_time": "2021-09-05T22:34:01.663177",
   "environment_variables": {},
   "exception": null,
   "input_path": "__notebook__.ipynb",
   "output_path": "__notebook__.ipynb",
   "parameters": {},
   "start_time": "2021-09-05T22:33:22.764178",
   "version": "2.3.3"
  },
  "toc": {
   "base_numbering": 1,
   "nav_menu": {},
   "number_sections": true,
   "sideBar": true,
   "skip_h1_title": false,
   "title_cell": "Table of Contents",
   "title_sidebar": "Contents",
   "toc_cell": false,
   "toc_position": {},
   "toc_section_display": true,
   "toc_window_display": false
  },
  "varInspector": {
   "cols": {
    "lenName": 16,
    "lenType": 16,
    "lenVar": 40
   },
   "kernels_config": {
    "python": {
     "delete_cmd_postfix": "",
     "delete_cmd_prefix": "del ",
     "library": "var_list.py",
     "varRefreshCmd": "print(var_dic_list())"
    },
    "r": {
     "delete_cmd_postfix": ") ",
     "delete_cmd_prefix": "rm(",
     "library": "var_list.r",
     "varRefreshCmd": "cat(var_dic_list()) "
    }
   },
   "types_to_exclude": [
    "module",
    "function",
    "builtin_function_or_method",
    "instance",
    "_Feature"
   ],
   "window_display": false
  }
 },
 "nbformat": 4,
 "nbformat_minor": 5
}
