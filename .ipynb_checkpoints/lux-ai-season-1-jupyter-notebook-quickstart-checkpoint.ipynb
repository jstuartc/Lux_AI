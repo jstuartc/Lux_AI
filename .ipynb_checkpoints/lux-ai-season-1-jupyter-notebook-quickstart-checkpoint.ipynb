{
 "cells": [
  {
   "cell_type": "markdown",
   "metadata": {
    "papermill": {
     "duration": 0.011796,
     "end_time": "2021-09-05T22:33:30.612334",
     "exception": false,
     "start_time": "2021-09-05T22:33:30.600538",
     "status": "completed"
    },
    "tags": []
   },
   "source": [
    "# Lux AI Season 1 Jupyter Notebook Quickstart\n",
    "\n",
    "Welcome to Lux AI Season 1!\n",
    "\n",
    "This notebook is the basic setup to use Jupyter Notebooks and the `kaggle-environments` package to develop your bot. If you plan to not use Jupyter Notebooks or any other programming language, please see our [Github](https://github.com/Lux-AI-Challenge/Lux-Design-2021). The following are some important links!\n",
    "\n",
    "Competition Page: https://www.kaggle.com/c/lux-ai-2021/\n",
    "\n",
    "Online Visualizer: https://2021vis.lux-ai.org/\n",
    "\n",
    "Specifications: https://www.lux-ai.org/specs-2021\n",
    "\n",
    "Github: https://github.com/Lux-AI-Challenge/Lux-Design-2021\n",
    "\n",
    "Bot API: https://github.com/Lux-AI-Challenge/Lux-Design-2021/tree/master/kits\n",
    "\n",
    "And if you haven't done so already, we highly recommend you join our Discord server at https://discord.gg/aWJt3UAcgn or at the minimum follow the kaggle forums at https://www.kaggle.com/c/lux-ai-2021/discussion. We post important announcements there such as changes to rules, events, and opportunities from our sponsors!"
   ]
  },
  {
   "cell_type": "code",
   "execution_count": 1,
   "metadata": {
    "_cell_guid": "b1076dfc-b9ad-4769-8c92-a6c4dae69d19",
    "_uuid": "8f2839f25d086af736a60e9eeb907d3b93b6e0e5",
    "execution": {
     "iopub.execute_input": "2021-09-05T22:33:30.638313Z",
     "iopub.status.busy": "2021-09-05T22:33:30.637198Z",
     "iopub.status.idle": "2021-09-05T22:33:40.080519Z",
     "shell.execute_reply": "2021-09-05T22:33:40.081033Z",
     "shell.execute_reply.started": "2021-08-20T02:17:47.253834Z"
    },
    "papermill": {
     "duration": 9.457782,
     "end_time": "2021-09-05T22:33:40.081316",
     "exception": false,
     "start_time": "2021-09-05T22:33:30.623534",
     "status": "completed"
    },
    "tags": []
   },
   "outputs": [
    {
     "name": "stdout",
     "output_type": "stream",
     "text": [
      "Requirement already satisfied: kaggle-environments in /opt/conda/lib/python3.7/site-packages (1.7.11)\r\n",
      "Collecting kaggle-environments\r\n",
      "  Downloading kaggle_environments-1.8.12-py2.py3-none-any.whl (1.2 MB)\r\n",
      "\u001b[K     |████████████████████████████████| 1.2 MB 922 kB/s \r\n",
      "\u001b[?25hRequirement already satisfied: jsonschema>=3.0.1 in /opt/conda/lib/python3.7/site-packages (from kaggle-environments) (3.2.0)\r\n",
      "Requirement already satisfied: pyrsistent>=0.14.0 in /opt/conda/lib/python3.7/site-packages (from jsonschema>=3.0.1->kaggle-environments) (0.17.3)\r\n",
      "Requirement already satisfied: setuptools in /opt/conda/lib/python3.7/site-packages (from jsonschema>=3.0.1->kaggle-environments) (49.6.0.post20210108)\r\n",
      "Requirement already satisfied: attrs>=17.4.0 in /opt/conda/lib/python3.7/site-packages (from jsonschema>=3.0.1->kaggle-environments) (21.2.0)\r\n",
      "Requirement already satisfied: six>=1.11.0 in /opt/conda/lib/python3.7/site-packages (from jsonschema>=3.0.1->kaggle-environments) (1.15.0)\r\n",
      "Requirement already satisfied: importlib-metadata in /opt/conda/lib/python3.7/site-packages (from jsonschema>=3.0.1->kaggle-environments) (3.4.0)\r\n",
      "Requirement already satisfied: zipp>=0.5 in /opt/conda/lib/python3.7/site-packages (from importlib-metadata->jsonschema>=3.0.1->kaggle-environments) (3.4.1)\r\n",
      "Requirement already satisfied: typing-extensions>=3.6.4 in /opt/conda/lib/python3.7/site-packages (from importlib-metadata->jsonschema>=3.0.1->kaggle-environments) (3.7.4.3)\r\n",
      "Installing collected packages: kaggle-environments\r\n",
      "  Attempting uninstall: kaggle-environments\r\n",
      "    Found existing installation: kaggle-environments 1.7.11\r\n",
      "    Uninstalling kaggle-environments-1.7.11:\r\n",
      "      Successfully uninstalled kaggle-environments-1.7.11\r\n",
      "Successfully installed kaggle-environments-1.8.12\r\n",
      "\u001b[33mWARNING: Running pip as root will break packages and permissions. You should install packages reliably by using venv: https://pip.pypa.io/warnings/venv\u001b[0m\r\n"
     ]
    }
   ],
   "source": [
    "!pip3 install kaggle-environments -U"
   ]
  },
  {
   "cell_type": "code",
   "execution_count": 1,
   "metadata": {
    "execution": {
     "iopub.execute_input": "2021-09-05T22:33:40.117661Z",
     "iopub.status.busy": "2021-09-05T22:33:40.117043Z",
     "iopub.status.idle": "2021-09-05T22:33:40.248191Z",
     "shell.execute_reply": "2021-09-05T22:33:40.247626Z",
     "shell.execute_reply.started": "2021-08-20T02:17:58.466198Z"
    },
    "papermill": {
     "duration": 0.1513,
     "end_time": "2021-09-05T22:33:40.248365",
     "exception": false,
     "start_time": "2021-09-05T22:33:40.097065",
     "status": "completed"
    },
    "tags": []
   },
   "outputs": [
    {
     "name": "stdout",
     "output_type": "stream",
     "text": [
      "Loading environment football failed: No module named 'gfootball'\n"
     ]
    }
   ],
   "source": [
    "from kaggle_environments import make\n",
    "import json"
   ]
  },
  {
   "cell_type": "code",
   "execution_count": 2,
   "metadata": {
    "execution": {
     "iopub.execute_input": "2021-09-05T22:33:40.284778Z",
     "iopub.status.busy": "2021-09-05T22:33:40.284091Z",
     "iopub.status.idle": "2021-09-05T22:33:49.004402Z",
     "shell.execute_reply": "2021-09-05T22:33:49.003571Z",
     "shell.execute_reply.started": "2021-08-20T02:19:42.205975Z"
    },
    "papermill": {
     "duration": 8.74039,
     "end_time": "2021-09-05T22:33:49.004544",
     "exception": false,
     "start_time": "2021-09-05T22:33:40.264154",
     "status": "completed"
    },
    "tags": []
   },
   "outputs": [],
   "source": [
    "# create the environment. You can also specify configurations for seed and loglevel as shown below. If not specified, a random seed is chosen. \n",
    "# loglevel default is 0. \n",
    "# 1 is for errors, 2 is for match warnings such as units colliding, invalid commands (recommended)\n",
    "# 3 for info level, and 4 for everything (not recommended)\n",
    "# set annotations True so annotation commands are drawn on visualizer\n",
    "# set debug to True so print statements get shown\n",
    "env = make(\"lux_ai_2021\", configuration={\"seed\": 562124210, \"loglevel\": 2, \"annotations\": True}, debug=True)\n",
    "# run a match between two agents, simple_agent is a default one\n",
    "steps = env.run([\"simple_agent\", \"simple_agent\"])"
   ]
  },
  {
   "cell_type": "code",
   "execution_count": 7,
   "metadata": {
    "execution": {
     "iopub.execute_input": "2021-09-05T22:33:49.053185Z",
     "iopub.status.busy": "2021-09-05T22:33:49.048048Z",
     "iopub.status.idle": "2021-09-05T22:33:49.307635Z",
     "shell.execute_reply": "2021-09-05T22:33:49.308151Z",
     "shell.execute_reply.started": "2021-08-20T02:19:52.071473Z"
    },
    "papermill": {
     "duration": 0.288652,
     "end_time": "2021-09-05T22:33:49.308320",
     "exception": false,
     "start_time": "2021-09-05T22:33:49.019668",
     "status": "completed"
    },
    "tags": []
   },
   "outputs": [],
   "source": [
    "# you can also render the replay inline as so. we recommend for best viewing experience to set width and height as large possible\n",
    "# if you are viewing this outside of the interactive jupyter notebook / kaggle notebooks mode, this may look cutoff\n",
    "# you may also want to close the output of this render cell or else the notebook might get laggy\n",
    "#env.render(mode=\"ipython\", width=1000, height=700)"
   ]
  },
  {
   "cell_type": "code",
   "execution_count": 5,
   "metadata": {
    "execution": {
     "iopub.execute_input": "2021-09-05T22:33:49.519541Z",
     "iopub.status.busy": "2021-09-05T22:33:49.515308Z",
     "iopub.status.idle": "2021-09-05T22:33:50.299301Z",
     "shell.execute_reply": "2021-09-05T22:33:50.298721Z",
     "shell.execute_reply.started": "2021-08-17T02:51:29.54829Z"
    },
    "papermill": {
     "duration": 0.888418,
     "end_time": "2021-09-05T22:33:50.299435",
     "exception": false,
     "start_time": "2021-09-05T22:33:49.411017",
     "status": "completed"
    },
    "tags": []
   },
   "outputs": [],
   "source": [
    "# run this if using kaggle notebooks\n",
    "!cp -r ../input/lux-ai-2021/* .\n",
    "# if working locally, download the `simple/lux` folder from here https://github.com/Lux-AI-Challenge/Lux-Design-2021/tree/master/kits/python\n",
    "# and we recommend following instructions in there for local development with python bots"
   ]
  },
  {
   "cell_type": "code",
   "execution_count": 6,
   "metadata": {
    "execution": {
     "iopub.execute_input": "2021-09-05T22:33:50.505801Z",
     "iopub.status.busy": "2021-09-05T22:33:50.504621Z",
     "iopub.status.idle": "2021-09-05T22:33:50.508830Z",
     "shell.execute_reply": "2021-09-05T22:33:50.508113Z"
    },
    "papermill": {
     "duration": 0.108868,
     "end_time": "2021-09-05T22:33:50.509033",
     "exception": false,
     "start_time": "2021-09-05T22:33:50.400165",
     "status": "completed"
    },
    "tags": []
   },
   "outputs": [
    {
     "name": "stdout",
     "output_type": "stream",
     "text": [
      "Overwriting agent.py\n"
     ]
    }
   ],
   "source": [
    "%%writefile agent.py\n",
    "# we add this above so you can write this main agent code into a file for submission later\n",
    "\n",
    "# for kaggle-environments\n",
    "from lux.game import Game\n",
    "from lux.game_map import Cell, RESOURCE_TYPES\n",
    "from lux.constants import Constants\n",
    "from lux.game_constants import GAME_CONSTANTS\n",
    "from lux import annotate\n",
    "import math\n",
    "\n",
    "# we declare this global game_state object so that state persists across turns so we do not need to reinitialize it all the time\n",
    "game_state = None\n",
    "\n",
    "# this is the basic agent definition. At the moment this agent does nothing (and actually will survive for a bit before getting consumed by darkness)\n",
    "def agent(observation, configuration):\n",
    "    global game_state\n",
    "\n",
    "    ### Do not edit ###\n",
    "    if observation[\"step\"] == 0:\n",
    "        game_state = Game()\n",
    "        game_state._initialize(observation[\"updates\"])\n",
    "        game_state._update(observation[\"updates\"][2:])\n",
    "        game_state.id = observation.player\n",
    "    else:\n",
    "        game_state._update(observation[\"updates\"])\n",
    "    \n",
    "    actions = []\n",
    "\n",
    "    ### AI Code goes down here! ### \n",
    "    player = game_state.players[observation.player]\n",
    "    opponent = game_state.players[(observation.player + 1) % 2]\n",
    "    width, height = game_state.map.width, game_state.map.height\n",
    "\n",
    "    return actions"
   ]
  },
  {
   "cell_type": "code",
   "execution_count": 2,
   "metadata": {
    "execution": {
     "iopub.execute_input": "2021-09-05T22:33:50.718185Z",
     "iopub.status.busy": "2021-09-05T22:33:50.717553Z",
     "iopub.status.idle": "2021-09-05T22:33:58.025846Z",
     "shell.execute_reply": "2021-09-05T22:33:58.025193Z"
    },
    "papermill": {
     "duration": 7.419754,
     "end_time": "2021-09-05T22:33:58.026036",
     "exception": false,
     "start_time": "2021-09-05T22:33:50.606282",
     "status": "completed"
    },
    "tags": []
   },
   "outputs": [
    {
     "name": "stdout",
     "output_type": "stream",
     "text": [
      "Traceback (most recent call last):\n",
      "  File \"/Library/Frameworks/Python.framework/Versions/3.8/lib/python3.8/site-packages/kaggle_environments/agent.py\", line 157, in act\n",
      "    action = self.agent(*args)\n",
      "  File \"/Library/Frameworks/Python.framework/Versions/3.8/lib/python3.8/site-packages/kaggle_environments/agent.py\", line 128, in callable_agent\n",
      "    agent(*args) \\\n",
      "  File \"simple_swarm/agent.py\", line 62, in agent\n",
      "    new_hive = Hive(tile, game_state)\n",
      "  File \"simple_swarm/hive.py\", line 49, in __init__\n",
      "    if self.resource_type == GAME_CONSTANTS.WOOD:\n",
      "AttributeError: 'dict' object has no attribute 'WOOD'\n",
      "Error: ['Traceback (most recent call last):\\n', '  File \"/Library/Frameworks/Python.framework/Versions/3.8/lib/python3.8/site-packages/kaggle_environments/agent.py\", line 157, in act\\n    action = self.agent(*args)\\n', '  File \"/Library/Frameworks/Python.framework/Versions/3.8/lib/python3.8/site-packages/kaggle_environments/agent.py\", line 128, in callable_agent\\n    agent(*args) \\\\\\n', '  File \"simple_swarm/agent.py\", line 62, in agent\\n    new_hive = Hive(tile, game_state)\\n', '  File \"simple_swarm/hive.py\", line 49, in __init__\\n    if self.resource_type == GAME_CONSTANTS.WOOD:\\n', \"AttributeError: 'dict' object has no attribute 'WOOD'\\n\"]\n"
     ]
    }
   ],
   "source": [
    "# run another match but with our empty agent\n",
    "env = make(\"lux_ai_2021\", configuration={\"seed\": 562124210, \"loglevel\": 2}, debug=True)\n",
    "steps = env.run([\"simple_swarm/agent.py\", \"simple/agent.py\"])"
   ]
  },
  {
   "cell_type": "code",
   "execution_count": 3,
   "metadata": {
    "execution": {
     "iopub.execute_input": "2021-09-05T22:33:58.349571Z",
     "iopub.status.busy": "2021-09-05T22:33:58.344441Z",
     "iopub.status.idle": "2021-09-05T22:33:58.463970Z",
     "shell.execute_reply": "2021-09-05T22:33:58.463270Z"
    },
    "papermill": {
     "duration": 0.340343,
     "end_time": "2021-09-05T22:33:58.464108",
     "exception": false,
     "start_time": "2021-09-05T22:33:58.123765",
     "status": "completed"
    },
    "tags": []
   },
   "outputs": [],
   "source": [
    "# save the replay as a file. if working locally this should appear in your current directory, otherwise you can download\n",
    "# from this kaggle notebook by opening the output section of the data panel on the right\n",
    "replay = env.toJSON()\n",
    "with open(\"replay.json\", \"w\") as f:\n",
    "    json.dump(replay, f)\n",
    "# this replay can then be watched here https://2021vis.lux-ai.org/"
   ]
  },
  {
   "cell_type": "markdown",
   "metadata": {
    "papermill": {
     "duration": 0.099891,
     "end_time": "2021-09-05T22:33:58.662344",
     "exception": false,
     "start_time": "2021-09-05T22:33:58.562453",
     "status": "completed"
    },
    "tags": []
   },
   "source": [
    "## Create a submission\n",
    "Now we need to create a .tar.gz file with main.py (and agent.py) at the top level. We can then upload this!"
   ]
  },
  {
   "cell_type": "code",
   "execution_count": 9,
   "metadata": {
    "execution": {
     "iopub.execute_input": "2021-09-05T22:33:58.866088Z",
     "iopub.status.busy": "2021-09-05T22:33:58.862039Z",
     "iopub.status.idle": "2021-09-05T22:33:59.620802Z",
     "shell.execute_reply": "2021-09-05T22:33:59.621295Z",
     "shell.execute_reply.started": "2021-08-15T01:54:21.388123Z"
    },
    "papermill": {
     "duration": 0.861101,
     "end_time": "2021-09-05T22:33:59.621474",
     "exception": false,
     "start_time": "2021-09-05T22:33:58.760373",
     "status": "completed"
    },
    "tags": []
   },
   "outputs": [],
   "source": [
    "!tar -czf submission.tar.gz *"
   ]
  },
  {
   "cell_type": "markdown",
   "metadata": {
    "papermill": {
     "duration": 0.100277,
     "end_time": "2021-09-05T22:33:59.818743",
     "exception": false,
     "start_time": "2021-09-05T22:33:59.718466",
     "status": "completed"
    },
    "tags": []
   },
   "source": [
    "## Submit\n",
    "Now open the /kaggle/working folder and find submission.tar.gz, download that file, navigate to the \"MySubmissions\" tab in https://www.kaggle.com/c/lux-ai-2021/ and upload your submission! It should play a validation match against itself and once it succeeds it will be automatically matched against other players' submissions. Newer submissions will be prioritized for games over older ones. Your team is limited in the number of succesful submissions per day so we highly recommend testing your bot locally before submitting."
   ]
  },
  {
   "cell_type": "markdown",
   "metadata": {
    "papermill": {
     "duration": 0.097021,
     "end_time": "2021-09-05T22:34:00.012206",
     "exception": false,
     "start_time": "2021-09-05T22:33:59.915185",
     "status": "completed"
    },
    "tags": []
   },
   "source": [
    "## Additional things to check out\n",
    "\n",
    "Make sure you check out the Bot API at https://github.com/Lux-AI-Challenge/Lux-Design-2021/tree/master/kits\n",
    "\n",
    "This documents what you can do using the starter kit files in addition to telling you how to use the annotation debug commands that let you annotate directly on a replay (draw lines, circle things etc.)\n",
    "\n",
    "You can upload repaly files like the JSON file created earlier to the online replay viewer https://2021vis.lux-ai.org/\n",
    "\n",
    "For a local (faster) version of the replay viewer, follow installation instructions here https://github.com/Lux-AI-Challenge/Lux-Viewer-2021"
   ]
  },
  {
   "cell_type": "markdown",
   "metadata": {
    "papermill": {
     "duration": 0.096088,
     "end_time": "2021-09-05T22:34:00.207087",
     "exception": false,
     "start_time": "2021-09-05T22:34:00.110999",
     "status": "completed"
    },
    "tags": []
   },
   "source": [
    "## CLI Tool\n",
    "\n",
    "There's a separate CLI tool that can also be used to run matches. It's recommended for Jupyter Notebook users to stick with just this quickstart notebook, and all other users including python users to follow the instructions on https://github.com/Lux-AI-Challenge/Lux-Design-2021\n",
    "\n",
    "The other benefit however of using the CLI tool is that it generates much smaller, \"stateless\" replays and also lets you run a mini leaderboard on multiple bots ranked by various ranking algorithms"
   ]
  }
 ],
 "metadata": {
  "kernelspec": {
   "display_name": "Python 3",
   "language": "python",
   "name": "python3"
  },
  "language_info": {
   "codemirror_mode": {
    "name": "ipython",
    "version": 3
   },
   "file_extension": ".py",
   "mimetype": "text/x-python",
   "name": "python",
   "nbconvert_exporter": "python",
   "pygments_lexer": "ipython3",
   "version": "3.8.1"
  },
  "papermill": {
   "default_parameters": {},
   "duration": 38.898999,
   "end_time": "2021-09-05T22:34:01.663177",
   "environment_variables": {},
   "exception": null,
   "input_path": "__notebook__.ipynb",
   "output_path": "__notebook__.ipynb",
   "parameters": {},
   "start_time": "2021-09-05T22:33:22.764178",
   "version": "2.3.3"
  },
  "toc": {
   "base_numbering": 1,
   "nav_menu": {},
   "number_sections": true,
   "sideBar": true,
   "skip_h1_title": false,
   "title_cell": "Table of Contents",
   "title_sidebar": "Contents",
   "toc_cell": false,
   "toc_position": {},
   "toc_section_display": true,
   "toc_window_display": false
  },
  "varInspector": {
   "cols": {
    "lenName": 16,
    "lenType": 16,
    "lenVar": 40
   },
   "kernels_config": {
    "python": {
     "delete_cmd_postfix": "",
     "delete_cmd_prefix": "del ",
     "library": "var_list.py",
     "varRefreshCmd": "print(var_dic_list())"
    },
    "r": {
     "delete_cmd_postfix": ") ",
     "delete_cmd_prefix": "rm(",
     "library": "var_list.r",
     "varRefreshCmd": "cat(var_dic_list()) "
    }
   },
   "types_to_exclude": [
    "module",
    "function",
    "builtin_function_or_method",
    "instance",
    "_Feature"
   ],
   "window_display": false
  }
 },
 "nbformat": 4,
 "nbformat_minor": 5
}
